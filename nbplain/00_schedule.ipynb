{
 "cells": [
  {
   "cell_type": "markdown",
   "metadata": {
    "slideshow": {
     "slide_type": "slide"
    }
   },
   "source": [
    "# T2C2T Plotting Examples\n",
    "\n"
   ]
  },
  {
   "cell_type": "markdown",
   "metadata": {
    "slideshow": {
     "slide_type": "slide"
    }
   },
   "source": [
    "## Prerequisites:\n",
    "\n",
    "To complete this lesson you should be able to do all the things in this list:\n",
    "* Use notebooks\n",
    "* Program in Python\n",
    "* Be familiar with matplotlib"
   ]
  },
  {
   "cell_type": "markdown",
   "metadata": {
    "slideshow": {
     "slide_type": "slide"
    }
   },
   "source": [
    "## Schedule:\n",
    "\n",
    "| Time | Episode | Description |\n",
    "|---|---|---|\n",
    "| 0:00 | [Plotting recap](01_plotting.ipynb) | A recap of basic plotting |\n",
    "| 0:00 | [Animated plots](02_animation.ipynb) | Adding animation to plots |\n",
    "| 0:00 | [Interactive plots](03_interactive.ipynb) | Making plots interactive |\n",
    "| 0:00 | [Live updating plots](04_live_update.ipynb) | Plots that update from live data |\n",
    "| 0:00 | [Combinied plots](05_combined.ipynb) | Combining these techniques |\n",
    "\n",
    "Plotting commands from \"Intro to data and plotting\" course:\n",
    "\n",
    "| Time | Episode | Description |\n",
    "|---|---|---|\n",
    "| 0:30 | [Part 1](11_matplotlib_pt1.ipynb) | Introduction to matplotlib |\n",
    "| 0:20 | [Part 2](12_matplotlib_pt2.ipynb) | Customising matplotlib output |"
   ]
  },
  {
   "cell_type": "markdown",
   "metadata": {
    "slideshow": {
     "slide_type": "slide"
    }
   },
   "source": [
    "## Setup:\n",
    "\n",
    "Ensure Jupyter notebooks and matplotlib are both installed"
   ]
  }
 ],
 "metadata": {
  "celltoolbar": "Slideshow",
  "kernelspec": {
   "display_name": "Python 3",
   "language": "python",
   "name": "python3"
  },
  "language_info": {
   "codemirror_mode": {
    "name": "ipython",
    "version": 3
   },
   "file_extension": ".py",
   "mimetype": "text/x-python",
   "name": "python",
   "nbconvert_exporter": "python",
   "pygments_lexer": "ipython3",
   "version": "3.7.4"
  }
 },
 "nbformat": 4,
 "nbformat_minor": 2
}
